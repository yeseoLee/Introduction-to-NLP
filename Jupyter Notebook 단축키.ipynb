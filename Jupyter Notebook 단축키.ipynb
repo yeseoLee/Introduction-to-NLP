{
 "cells": [
  {
   "cell_type": "markdown",
   "metadata": {},
   "source": [
    "### Code 입력 모드(편집 모드) 단축키"
   ]
  },
  {
   "cell_type": "markdown",
   "metadata": {},
   "source": [
    "Ctrl + a -> 해당 셀 전체 선택  \n",
    "Ctrl + c,v,x -> 셀 내용 복사, 붙여넣기,잘라내기  \n",
    "Ctrl + z -> 해당 셀 실행 취소 (code 입력모드에서)"
   ]
  },
  {
   "cell_type": "markdown",
   "metadata": {},
   "source": [
    "Ctrl + / -> 해당 셀 커서가 위치 된 곳 주석 처리, 주석처리 해제  \n",
    "Ctrl + ] -> 커서위치한 곳에서 들여쓰기(Tab)  "
   ]
  },
  {
   "cell_type": "markdown",
   "metadata": {},
   "source": [
    "Ctrl + enter -> 해당 셀 실행  \n",
    "Ctrl + y -> 해당 셀 다시 실행  \n",
    "shift + enter -> 해당 셀 실행 후 셀 새로 추가 또는 아래 셀로 이동  "
   ]
  },
  {
   "cell_type": "markdown",
   "metadata": {},
   "source": [
    "### Mode 변경"
   ]
  },
  {
   "cell_type": "markdown",
   "metadata": {},
   "source": [
    "셀 바깥 쪽 빈공간을 마우스로 클릭하거나  \n",
    "Ctrl + m 또는 Esc 키를 누르시면 Command Mode로 변경"
   ]
  },
  {
   "cell_type": "markdown",
   "metadata": {},
   "source": [
    "### Command 모드 단축키"
   ]
  },
  {
   "cell_type": "markdown",
   "metadata": {},
   "source": [
    "h - 단축키 목록 펼쳐 보기  \n",
    "b - 셀 추가(아래로 추가)   \n",
    "a - 셀 추가(위로 추가)  "
   ]
  },
  {
   "cell_type": "markdown",
   "metadata": {},
   "source": [
    "dd (d 두번) - 해당 셀 삭제"
   ]
  },
  {
   "cell_type": "markdown",
   "metadata": {},
   "source": [
    "m - 해당셀 Markdown으로 변경  \n",
    "y - 해당셀 code로 변경"
   ]
  },
  {
   "cell_type": "markdown",
   "metadata": {},
   "source": [
    "c, v, x- 셀 복사, 붙여넣기, 잘라내기"
   ]
  },
  {
   "cell_type": "markdown",
   "metadata": {},
   "source": [
    "Shift + m - 해당 셀 &  아래 셀 합치기"
   ]
  },
  {
   "cell_type": "markdown",
   "metadata": {},
   "source": [
    "Reference : https://technical-support.tistory.com/58"
   ]
  }
 ],
 "metadata": {
  "kernelspec": {
   "display_name": "Python 3",
   "language": "python",
   "name": "python3"
  },
  "language_info": {
   "codemirror_mode": {
    "name": "ipython",
    "version": 3
   },
   "file_extension": ".py",
   "mimetype": "text/x-python",
   "name": "python",
   "nbconvert_exporter": "python",
   "pygments_lexer": "ipython3",
   "version": "3.7.3"
  }
 },
 "nbformat": 4,
 "nbformat_minor": 2
}
